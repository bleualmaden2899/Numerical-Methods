{
  "nbformat": 4,
  "nbformat_minor": 0,
  "metadata": {
    "colab": {
      "name": "Python Exercise 1",
      "provenance": [],
      "collapsed_sections": []
    },
    "kernelspec": {
      "name": "python3",
      "display_name": "Python 3"
    },
    "language_info": {
      "name": "python"
    }
  },
  "cells": [
    {
      "cell_type": "markdown",
      "metadata": {
        "id": "vWpN5z81e-Nu"
      },
      "source": [
        "#Python Exercise 1\n",
        "##Test Content\n",
        "###Create a program using Python that allows a Student to type his/her name, the name of the course, and that computes his/her semestral grade (30% x PG + 30% x MG + 40% x FG)"
      ]
    },
    {
      "cell_type": "code",
      "metadata": {
        "colab": {
          "base_uri": "https://localhost:8080/"
        },
        "id": "QrEL9gOgeFxD",
        "outputId": "79f386b4-cc59-4301-dba6-86797ffad614"
      },
      "source": [
        "print(\"******************************************************************\")\n",
        "name = input(\"| Name:   | \" )\n",
        "print(\"------------------------------------------------------------------\")\n",
        "course = input(\"| Course: | \" )\n",
        "print(\"******************************************************************\")\n",
        "prelimgrade = float(input(\"| Prelim Grade  : \" ))\n",
        "print(\"------------------------------------------------------------------\")\n",
        "midtermgrade = float(input(\"| Midterm Grade : \" ))   \n",
        "print(\"------------------------------------------------------------------\")  \n",
        "finalgrade = float(input(\"| Final Grade   : \"))\n",
        "print(\"******************************************************************\")\n",
        "prelim = prelimgrade*.3\n",
        "midterm = midtermgrade*.3\n",
        "finals = finalgrade*.4 \n",
        "sem_grade = prelim+midterm+finals\n",
        "semgrade = round(sem_grade,2)             \n",
        "print(\"| NAME: {}, SEMESTRAL GRADE:  {} \".format(name, semgrade))\n",
        "print(\"******************************************************************\")"
      ],
      "execution_count": null,
      "outputs": [
        {
          "output_type": "stream",
          "text": [
            "******************************************************************\n",
            "| Name:   | Almaden\n",
            "------------------------------------------------------------------\n",
            "| Course: | BS-CPE\n",
            "******************************************************************\n",
            "| Prelim Grade  : 78\n",
            "------------------------------------------------------------------\n",
            "| Midterm Grade : 73\n",
            "------------------------------------------------------------------\n",
            "| Final Grade   : 71\n",
            "******************************************************************\n",
            "| NAME: Almaden, SEMESTRAL GRADE:  73.7 \n",
            "******************************************************************\n"
          ],
          "name": "stdout"
        }
      ]
    }
  ]
}