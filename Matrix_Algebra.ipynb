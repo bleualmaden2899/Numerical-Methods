{
  "nbformat": 4,
  "nbformat_minor": 0,
  "metadata": {
    "colab": {
      "name": "Matrix Algebra",
      "provenance": []
    },
    "kernelspec": {
      "name": "python3",
      "display_name": "Python 3"
    },
    "language_info": {
      "name": "python"
    }
  },
  "cells": [
    {
      "cell_type": "markdown",
      "metadata": {
        "id": "SUh1tKPfUOMs"
      },
      "source": [
        "##Matrix and its Operations"
      ]
    },
    {
      "cell_type": "code",
      "metadata": {
        "colab": {
          "base_uri": "https://localhost:8080/"
        },
        "id": "LQ0C2BwzTgmL",
        "outputId": "6764fe22-b602-4019-e488-02c7e46f558d"
      },
      "source": [
        "import numpy as np\n",
        "a = np.array([1,2,3]) #This is 1 x 3 array\n",
        "a[0]=4\n",
        "print(a)"
      ],
      "execution_count": null,
      "outputs": [
        {
          "output_type": "stream",
          "name": "stdout",
          "text": [
            "[4 2 3]\n"
          ]
        }
      ]
    },
    {
      "cell_type": "code",
      "metadata": {
        "colab": {
          "base_uri": "https://localhost:8080/"
        },
        "id": "arqpmqtqUsHm",
        "outputId": "ceffd3f7-f8c3-4760-aa0e-5a9b4364319e"
      },
      "source": [
        "b = np.array([[1,2,3],[4,5,6]]) #This is an example of 2x3 matrix\n",
        "b[0,0]=7\n",
        "print(b)"
      ],
      "execution_count": null,
      "outputs": [
        {
          "output_type": "stream",
          "name": "stdout",
          "text": [
            "[[7 2 3]\n",
            " [4 5 6]]\n"
          ]
        }
      ]
    },
    {
      "cell_type": "code",
      "metadata": {
        "colab": {
          "base_uri": "https://localhost:8080/"
        },
        "id": "OfpNqrOUWyCp",
        "outputId": "d99eb1ca-e237-4f03-cfc1-12b2a31f202c"
      },
      "source": [
        "c = np.array([[1,2,3],[4,5,6],[7,8,9]])#This is an example of square matrix\n",
        "print(c)"
      ],
      "execution_count": null,
      "outputs": [
        {
          "output_type": "stream",
          "name": "stdout",
          "text": [
            "[[1 2 3]\n",
            " [4 5 6]\n",
            " [7 8 9]]\n"
          ]
        }
      ]
    },
    {
      "cell_type": "code",
      "metadata": {
        "colab": {
          "base_uri": "https://localhost:8080/"
        },
        "id": "REG3SDbRXv-S",
        "outputId": "cea546f9-3ea9-486a-fef4-0e1e4146c754"
      },
      "source": [
        "d = np.full((2,2),4)\n",
        "print(d)"
      ],
      "execution_count": null,
      "outputs": [
        {
          "output_type": "stream",
          "name": "stdout",
          "text": [
            "[[4 4]\n",
            " [4 4]]\n"
          ]
        }
      ]
    },
    {
      "cell_type": "code",
      "metadata": {
        "colab": {
          "base_uri": "https://localhost:8080/"
        },
        "id": "M_s8re-iX7DJ",
        "outputId": "4fe2fce6-e1ff-4782-8a5c-69c3212d27e4"
      },
      "source": [
        "e = np.eye(2)\n",
        "print(e)"
      ],
      "execution_count": null,
      "outputs": [
        {
          "output_type": "stream",
          "name": "stdout",
          "text": [
            "[[1. 0.]\n",
            " [0. 1.]]\n"
          ]
        }
      ]
    },
    {
      "cell_type": "code",
      "metadata": {
        "colab": {
          "base_uri": "https://localhost:8080/"
        },
        "id": "GjSNSZeaYYK0",
        "outputId": "e6d369ed-dd17-4d5d-ce27-03e1c640cac8"
      },
      "source": [
        "e= np.diagonal([[1,2,3],[4,5,6],[7,8,9]])\n",
        "print(e)"
      ],
      "execution_count": null,
      "outputs": [
        {
          "output_type": "stream",
          "name": "stdout",
          "text": [
            "[1 5 9]\n"
          ]
        }
      ]
    },
    {
      "cell_type": "code",
      "metadata": {
        "colab": {
          "base_uri": "https://localhost:8080/"
        },
        "id": "rwHktdS7Zi1-",
        "outputId": "aaa29f32-d1f7-4d63-bb9e-5988c413a19e"
      },
      "source": [
        "f = np.empty((0,10))\n",
        "print(f)"
      ],
      "execution_count": null,
      "outputs": [
        {
          "output_type": "stream",
          "name": "stdout",
          "text": [
            "[]\n"
          ]
        }
      ]
    },
    {
      "cell_type": "code",
      "metadata": {
        "colab": {
          "base_uri": "https://localhost:8080/"
        },
        "id": "937V8Br1Z5pn",
        "outputId": "d0fb69a1-4ba3-4029-8ee0-991d9916b89e"
      },
      "source": [
        "g = np.zeros((2,2))\n",
        "print(g)"
      ],
      "execution_count": null,
      "outputs": [
        {
          "output_type": "stream",
          "name": "stdout",
          "text": [
            "[[0. 0.]\n",
            " [0. 0.]]\n"
          ]
        }
      ]
    },
    {
      "cell_type": "code",
      "metadata": {
        "colab": {
          "base_uri": "https://localhost:8080/"
        },
        "id": "OTg43lkqaH0H",
        "outputId": "bb0ca9aa-1de7-47b2-b5fa-addab1476623"
      },
      "source": [
        "e = np.eye(2)\n",
        "g = np.zeros((2,2))\n",
        "print(e)\n",
        "print(g)\n",
        "print(e+g) #This is the code to get the summation of matrices e and g\n",
        "print(e-g) #This is the code to get the difference of matrices e and g\n",
        "print(g-e)"
      ],
      "execution_count": null,
      "outputs": [
        {
          "output_type": "stream",
          "name": "stdout",
          "text": [
            "[[1. 0.]\n",
            " [0. 1.]]\n",
            "[[0. 0.]\n",
            " [0. 0.]]\n",
            "[[1. 0.]\n",
            " [0. 1.]]\n",
            "[[1. 0.]\n",
            " [0. 1.]]\n",
            "[[-1.  0.]\n",
            " [ 0. -1.]]\n"
          ]
        }
      ]
    },
    {
      "cell_type": "code",
      "metadata": {
        "id": "8YknGUbUaza4"
      },
      "source": [
        ""
      ],
      "execution_count": null,
      "outputs": []
    }
  ]
}