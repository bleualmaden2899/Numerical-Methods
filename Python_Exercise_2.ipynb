{
  "nbformat": 4,
  "nbformat_minor": 0,
  "metadata": {
    "colab": {
      "name": "Python Exercise 2",
      "provenance": []
    },
    "kernelspec": {
      "name": "python3",
      "display_name": "Python 3"
    },
    "language_info": {
      "name": "python"
    }
  },
  "cells": [
    {
      "cell_type": "markdown",
      "metadata": {
        "id": "t2Yy8zvwcydK"
      },
      "source": [
        "##Matrix and Its Operators"
      ]
    },
    {
      "cell_type": "markdown",
      "metadata": {
        "id": "729B8uZLbqw6"
      },
      "source": [
        "##Python Exercise 2\n",
        "#Test Content\n",
        "\n",
        "Create a NumPy program that performs the operations of the given matrices:\n",
        "\n",
        "1.sum = A +B\n",
        "\n",
        "2.difference1 = B - A\n",
        "\n",
        "3.difference2 = A - B"
      ]
    },
    {
      "cell_type": "code",
      "metadata": {
        "colab": {
          "base_uri": "https://localhost:8080/"
        },
        "id": "DJjBvyZ7bem_",
        "outputId": "eea10961-756e-4c45-ceb9-ddbc17aa16e0"
      },
      "source": [
        "import numpy as np\n",
        "a = np.array([[-5,0],[4,1]])\n",
        "b = np.array([[6,-3],[2,3]])\n",
        "print(a+b)"
      ],
      "execution_count": 2,
      "outputs": [
        {
          "output_type": "stream",
          "name": "stdout",
          "text": [
            "[[ 1 -3]\n",
            " [ 6  4]]\n"
          ]
        }
      ]
    },
    {
      "cell_type": "code",
      "metadata": {
        "colab": {
          "base_uri": "https://localhost:8080/"
        },
        "id": "_3w38VNXcKhK",
        "outputId": "f232c077-7b83-4cd0-83d1-d52ec7058ad2"
      },
      "source": [
        "print(b-a)"
      ],
      "execution_count": 3,
      "outputs": [
        {
          "output_type": "stream",
          "name": "stdout",
          "text": [
            "[[11 -3]\n",
            " [-2  2]]\n"
          ]
        }
      ]
    },
    {
      "cell_type": "code",
      "metadata": {
        "colab": {
          "base_uri": "https://localhost:8080/"
        },
        "id": "HQFVFRerceYi",
        "outputId": "2541c2e2-bdc2-4838-c3ce-ad2171b4122d"
      },
      "source": [
        "print(a-b)"
      ],
      "execution_count": 4,
      "outputs": [
        {
          "output_type": "stream",
          "name": "stdout",
          "text": [
            "[[-11   3]\n",
            " [  2  -2]]\n"
          ]
        }
      ]
    },
    {
      "cell_type": "code",
      "metadata": {
        "id": "tquANweKcgG4"
      },
      "source": [
        ""
      ],
      "execution_count": null,
      "outputs": []
    }
  ]
}